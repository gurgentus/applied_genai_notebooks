{
 "cells": [
  {
   "cell_type": "markdown",
   "id": "9ba1ad67",
   "metadata": {},
   "source": [
    "⚠️ **Static Version Notice**\n",
    "\n",
    "This is a static export of an interactive marimo notebook. Some features have been modified for compatibility:\n",
    "\n",
    "- Interactive UI elements (sliders, dropdowns, text inputs) have been removed\n",
    "- UI variable references have been replaced with default values\n",
    "- Some cells may have been simplified or removed entirely\n",
    "\n",
    "For the full interactive experience, please run the original marimo notebook (.py file) using:\n",
    "```bash\n",
    "uv run marimo edit notebook_name.py\n",
    "```\n",
    "\n",
    "---\n"
   ]
  },
  {
   "cell_type": "markdown",
   "id": "MJUe",
   "metadata": {
    "marimo": {
     "config": {
      "hide_code": true
     }
    }
   },
   "source": [
    "# Module 4: Practical 3 - Convolutional Neural Networks"
   ]
  },
  {
   "cell_type": "markdown",
   "id": "vblA",
   "metadata": {
    "marimo": {
     "config": {
      "hide_code": true
     }
    }
   },
   "source": [
    "In this practical, we \"upgrade\" our Fully Connected Neural Network to a Convolutional Neural Network (CNN). Except for the model definition, most of the code here is identical to Practical 1."
   ]
  },
  {
   "cell_type": "code",
   "execution_count": 1,
   "id": "bkHC",
   "metadata": {},
   "outputs": [
    {
     "name": "stdout",
     "output_type": "stream",
     "text": [
      "Using device: mps\n"
     ]
    }
   ],
   "source": [
    "import numpy as np\n",
    "import matplotlib.pyplot as plt\n",
    "import torch\n",
    "import torch.nn as nn\n",
    "import torch.optim as optim\n",
    "import torchvision\n",
    "import torchvision.transforms as transforms\n",
    "from torch.utils.data import DataLoader\n",
    "import torch.nn.functional as F\n",
    "\n",
    "torch.manual_seed(42)\n",
    "np.random.seed(42)\n",
    "\n",
    "# Check which GPU is available\n",
    "device = (\n",
    "    torch.device(\"mps\")\n",
    "    if torch.backends.mps.is_available()\n",
    "    else torch.device(\"cuda\") if torch.cuda.is_available() else torch.device(\"cpu\")\n",
    ")\n",
    "\n",
    "print(f\"Using device: {device}\")\n"
   ]
  },
  {
   "cell_type": "code",
   "execution_count": 2,
   "id": "lEQa",
   "metadata": {},
   "outputs": [],
   "source": [
    "BATCH_SIZE = 32\n",
    "\n",
    "# Prepare the Data\n",
    "transform = transforms.Compose([transforms.ToTensor()])\n",
    "\n",
    "train_dataset = torchvision.datasets.CIFAR10(\n",
    "    root=\"./data\", train=True, download=True, transform=transform\n",
    ")\n",
    "test_dataset = torchvision.datasets.CIFAR10(\n",
    "    root=\"./data\", train=False, download=True, transform=transform\n",
    ")\n"
   ]
  },
  {
   "cell_type": "code",
   "execution_count": 3,
   "id": "PKri",
   "metadata": {},
   "outputs": [
    {
     "data": {
      "text/plain": [
       "torch.Size([3, 32, 32])"
      ]
     },
     "execution_count": 3,
     "metadata": {},
     "output_type": "execute_result"
    }
   ],
   "source": [
    "train_dataset[0][0].shape\n"
   ]
  },
  {
   "cell_type": "code",
   "execution_count": 4,
   "id": "Xref",
   "metadata": {},
   "outputs": [
    {
     "name": "stdout",
     "output_type": "stream",
     "text": [
      "Label:  6\n"
     ]
    },
    {
     "data": {
      "image/png": "[encoded data removed]",
      "text/plain": [
       "<Figure size 640x480 with 1 Axes>"
      ]
     },
     "metadata": {},
     "output_type": "display_data"
    }
   ],
   "source": [
    "first_img, first_label = train_dataset[0]\n",
    "print(\"Label: \", first_label)\n",
    "plt.imshow(first_img.permute(1, 2, 0).squeeze())\n",
    "plt.show()\n"
   ]
  },
  {
   "cell_type": "code",
   "execution_count": 5,
   "id": "SFPL",
   "metadata": {},
   "outputs": [
    {
     "data": {
      "text/plain": [
       "np.str_('frog')"
      ]
     },
     "execution_count": 5,
     "metadata": {},
     "output_type": "execute_result"
    }
   ],
   "source": [
    "CLASSES = np.array(\n",
    "    [\n",
    "        \"airplane\",\n",
    "        \"automobile\",\n",
    "        \"bird\",\n",
    "        \"cat\",\n",
    "        \"deer\",\n",
    "        \"dog\",\n",
    "        \"frog\",\n",
    "        \"horse\",\n",
    "        \"ship\",\n",
    "        \"truck\",\n",
    "    ]\n",
    ")\n",
    "CLASSES[first_label]\n"
   ]
  },
  {
   "cell_type": "code",
   "execution_count": 6,
   "id": "BYtC",
   "metadata": {},
   "outputs": [
    {
     "name": "stdout",
     "output_type": "stream",
     "text": [
      "Some individual pixel:  tensor(0.3686)\n",
      "Corresponding Label:  2\n"
     ]
    }
   ],
   "source": [
    "print(\"Some individual pixel: \", train_dataset[54][0][1, 12, 13])\n",
    "print(\"Corresponding Label: \", train_dataset[54][1])\n"
   ]
  },
  {
   "cell_type": "code",
   "execution_count": 7,
   "id": "RGSE",
   "metadata": {},
   "outputs": [
    {
     "name": "stdout",
     "output_type": "stream",
     "text": [
      "Label:  8 ship\n"
     ]
    },
    {
     "data": {
      "image/png": "[encoded data removed]",
      "text/plain": [
       "<Figure size 640x480 with 1 Axes>"
      ]
     },
     "metadata": {},
     "output_type": "display_data"
    }
   ],
   "source": [
    "_random_index = np.random.randint(len(train_dataset))\n",
    "_img, _label = train_dataset[_random_index]\n",
    "print(\"Label: \", _label, CLASSES[_label])\n",
    "plt.imshow(_img.permute(1, 2, 0).squeeze())\n",
    "plt.show()\n"
   ]
  },
  {
   "cell_type": "code",
   "execution_count": 8,
   "id": "Kclp",
   "metadata": {},
   "outputs": [],
   "source": [
    "train_loader = DataLoader(train_dataset, batch_size=BATCH_SIZE, shuffle=True)\n",
    "test_loader = DataLoader(test_dataset, batch_size=BATCH_SIZE, shuffle=False)\n"
   ]
  },
  {
   "cell_type": "code",
   "execution_count": 9,
   "id": "emfo",
   "metadata": {},
   "outputs": [
    {
     "name": "stdout",
     "output_type": "stream",
     "text": [
      "Length of the train dataset:  50000\n",
      "Length of list(train_loader):  1563\n",
      "Shape of the first element of list(train_loader)[0]:  torch.Size([32, 3, 32, 32])\n"
     ]
    }
   ],
   "source": [
    "print(\"Length of the train dataset: \", len(train_dataset))\n",
    "print(\"Length of list(train_loader): \", len(list(train_loader)))\n",
    "print(\n",
    "    \"Shape of the first element of list(train_loader)[0]: \",\n",
    "    list(train_loader)[0][0].shape,\n",
    ")\n"
   ]
  },
  {
   "cell_type": "markdown",
   "id": "Hstk",
   "metadata": {
    "marimo": {
     "config": {
      "hide_code": true
     }
    }
   },
   "source": [
    "**Dataloaders** provide multiple ways to access the data, either by converting it into a **Python list** or by using an **iterable**.\n",
    "\n",
    "Using `list(train_loader)`, as we have shown in Practical 1, loads the **entire dataset into memory**, which can be **slow** and even **fail** when dealing with large datasets.\n",
    "\n",
    "Since **neural network training algorithms process data in batches**, it is more efficient to use an **iterator**. Instead of retrieving the first batch like this:\n",
    "```python\n",
    "list(train_loader)[0]\n",
    "```\n",
    "which loads everything into memory, we use:\n",
    "```python\n",
    "next(iter(train_loader))\n",
    "```\n",
    "This approach retrieves only the first batch without loading the entire dataset, making it memory-efficient and faster."
   ]
  },
  {
   "cell_type": "markdown",
   "id": "nWHF",
   "metadata": {
    "marimo": {
     "config": {
      "hide_code": true
     }
    }
   },
   "source": [
    "Let's load the first batch of our data (image and label) and display it using the `matplotlib` library.\n",
    "\n",
    "Recall that the shape returned by\n",
    "```python\n",
    "next(iter(train_loader))\n",
    "```\n",
    "is 32 by 3 by 32 by 32. This shape represents the batch size, number of channels, height, and width of the image, respectively."
   ]
  },
  {
   "cell_type": "code",
   "execution_count": 10,
   "id": "iLit",
   "metadata": {},
   "outputs": [
    {
     "data": {
      "image/png": "[encoded data removed]",
      "text/plain": [
       "<Figure size 640x480 with 1 Axes>"
      ]
     },
     "metadata": {},
     "output_type": "display_data"
    },
    {
     "name": "stdout",
     "output_type": "stream",
     "text": [
      "Label:  bird\n"
     ]
    }
   ],
   "source": [
    "next_batch_images, next_batch_labels = next(iter(train_loader))\n",
    "_first_img = next_batch_images[0]  # retrieve the first image from the batch of 32\n",
    "_first_label = next_batch_labels[0]  # retrieve the first label from the batch of 32\n",
    "plt.imshow(\n",
    "    _first_img.permute(1, 2, 0)\n",
    ")  # imshow requires the image to be in height x width x channels format\n",
    "plt.show()\n",
    "print(\"Label: \", CLASSES[_first_label])\n"
   ]
  },
  {
   "cell_type": "markdown",
   "id": "ROlb",
   "metadata": {
    "marimo": {
     "config": {
      "hide_code": true
     }
    }
   },
   "source": [
    "We now define our first CNN architecture. We will use this building block throughout the semester, so make sure you understand how it works. In particular, if we use the same padding and kernel (filter) size values for for both the width and height dimensions, the formula for the image size after the convolution or a max pooling layer is given by:\n",
    "\n",
    "$$\n",
    "\\frac{width + 2 * padding - (kernelsize -1) - 1}{S} + 1\n",
    "$$\n",
    "\n",
    "Verify this with `torch.nn.Conv2d` and `torch.nn.MaxPool2d` function documentation."
   ]
  },
  {
   "cell_type": "code",
   "execution_count": 11,
   "id": "qnkX",
   "metadata": {},
   "outputs": [],
   "source": [
    "class SimpleCNN(nn.Module):\n",
    "    def __init__(self):\n",
    "        super(SimpleCNN, self).__init__()\n",
    "        self.conv1 = nn.Conv2d(\n",
    "            3, 16, kernel_size=3, padding=1\n",
    "        )  # Input channels = 3, Output channels = 16\n",
    "        self.pool = nn.MaxPool2d(\n",
    "            kernel_size=2, stride=2\n",
    "        )  # Pooling layer, will half the dimensions\n",
    "        self.conv2 = nn.Conv2d(\n",
    "            16, 32, kernel_size=3, padding=1\n",
    "        )  # Input channels = 16, Output channels = 32\n",
    "        self.fc1 = nn.Linear(32 * 8 * 8, 128)  # Fully connected layer\n",
    "        self.fc2 = nn.Linear(128, 10)  # Output layer for 10 classes\n",
    "\n",
    "    def forward(self, x):\n",
    "        x = self.pool(F.relu(self.conv1(x)))\n",
    "        x = self.pool(F.relu(self.conv2(x)))\n",
    "        x = x.view(-1, 32 * 8 * 8)  # Flatten\n",
    "        x = F.relu(self.fc1(x))\n",
    "        x = self.fc2(x)\n",
    "        return x\n",
    "\n"
   ]
  },
  {
   "cell_type": "code",
   "execution_count": 12,
   "id": "TqIu",
   "metadata": {},
   "outputs": [],
   "source": [
    "net = SimpleCNN()\n"
   ]
  },
  {
   "cell_type": "markdown",
   "id": "ulZA",
   "metadata": {
    "marimo": {
     "config": {
      "hide_code": true
     }
    }
   },
   "source": [
    "We can improve the architecture by adding two more common operations: Batch Normalization and Dropout."
   ]
  },
  {
   "cell_type": "code",
   "execution_count": 13,
   "id": "ecfG",
   "metadata": {},
   "outputs": [],
   "source": [
    "class EnhancedCNN(nn.Module):\n",
    "    def __init__(self):\n",
    "        super(EnhancedCNN, self).__init__()\n",
    "        # Convolutional Layer 1 with BatchNorm\n",
    "        self.conv1 = nn.Conv2d(3, 16, kernel_size=3, padding=1)\n",
    "        self.bn1 = nn.BatchNorm2d(16)\n",
    "        self.pool = nn.MaxPool2d(kernel_size=2, stride=2)\n",
    "\n",
    "        # Convolutional Layer 2 with BatchNorm\n",
    "        self.conv2 = nn.Conv2d(16, 32, kernel_size=3, padding=1)\n",
    "        self.bn2 = nn.BatchNorm2d(32)  # Batch Normalization after Conv2\n",
    "\n",
    "        # Third convolutional layer\n",
    "        self.conv3 = nn.Conv2d(\n",
    "            32, 64, kernel_size=3, padding=1\n",
    "        )  # Output channels = 64\n",
    "        self.bn3 = nn.BatchNorm2d(64)  # Batch Normalization after Conv3\n",
    "\n",
    "        # Fourth convolutional layer\n",
    "        self.conv4 = nn.Conv2d(\n",
    "            64, 128, kernel_size=3, padding=1\n",
    "        )  # Output channels = 128\n",
    "        self.bn4 = nn.BatchNorm2d(128)  # Batch Normalization after Conv4\n",
    "\n",
    "        # Fully connected layers with Dropout\n",
    "        self.fc1 = nn.Linear(128 * 2 * 2, 128)\n",
    "        self.dropout = nn.Dropout(0.5)  # Dropout with 50% probability\n",
    "        self.fc2 = nn.Linear(128, 10)\n",
    "\n",
    "    def forward(self, x):\n",
    "        # Conf and pooling layers\n",
    "        x = self.pool(\n",
    "            F.relu(self.bn1(self.conv1(x)))\n",
    "        )  # Conv -> BatchNorm -> ReLU -> Pool\n",
    "        x = self.pool(\n",
    "            F.relu(self.bn2(self.conv2(x)))\n",
    "        )  # Conv -> BatchNorm -> ReLU -> Pool\n",
    "        x = self.pool(\n",
    "            F.relu(self.bn3(self.conv3(x)))\n",
    "        )  # Conv -> BatchNorm -> ReLU -> Pool\n",
    "        x = self.pool(\n",
    "            F.relu(self.bn4(self.conv4(x)))\n",
    "        )  # Conv -> BatchNorm -> ReLU -> Pool\n",
    "\n",
    "        # Flatten the feature map\n",
    "        x = x.view(-1, 128 * 2 * 2)\n",
    "\n",
    "        # Fully connected layer 1 with Dropout\n",
    "        x = F.relu(self.fc1(x))\n",
    "        x = self.dropout(x)\n",
    "\n",
    "        # Fully connected layer 2 (output)\n",
    "        x = self.fc2(x)\n",
    "        return x\n",
    "\n"
   ]
  },
  {
   "cell_type": "code",
   "execution_count": 14,
   "id": "Pvdt",
   "metadata": {},
   "outputs": [
    {
     "name": "stdout",
     "output_type": "stream",
     "text": [
      "EnhancedCNN(\n",
      "  (conv1): Conv2d(3, 16, kernel_size=(3, 3), stride=(1, 1), padding=(1, 1))\n",
      "  (bn1): BatchNorm2d(16, eps=1e-05, momentum=0.1, affine=True, track_running_stats=True)\n",
      "  (pool): MaxPool2d(kernel_size=2, stride=2, padding=0, dilation=1, ceil_mode=False)\n",
      "  (conv2): Conv2d(16, 32, kernel_size=(3, 3), stride=(1, 1), padding=(1, 1))\n",
      "  (bn2): BatchNorm2d(32, eps=1e-05, momentum=0.1, affine=True, track_running_stats=True)\n",
      "  (conv3): Conv2d(32, 64, kernel_size=(3, 3), stride=(1, 1), padding=(1, 1))\n",
      "  (bn3): BatchNorm2d(64, eps=1e-05, momentum=0.1, affine=True, track_running_stats=True)\n",
      "  (conv4): Conv2d(64, 128, kernel_size=(3, 3), stride=(1, 1), padding=(1, 1))\n",
      "  (bn4): BatchNorm2d(128, eps=1e-05, momentum=0.1, affine=True, track_running_stats=True)\n",
      "  (fc1): Linear(in_features=512, out_features=128, bias=True)\n",
      "  (dropout): Dropout(p=0.5, inplace=False)\n",
      "  (fc2): Linear(in_features=128, out_features=10, bias=True)\n",
      ")\n"
     ]
    }
   ],
   "source": [
    "model = EnhancedCNN().to(device)\n",
    "print(model)\n"
   ]
  },
  {
   "cell_type": "markdown",
   "id": "ZBYS",
   "metadata": {
    "marimo": {
     "config": {
      "hide_code": true
     }
    }
   },
   "source": [
    "### Training the model\n",
    "\n",
    "The training is exactly the same as for our Fully Connected Neural Network."
   ]
  },
  {
   "cell_type": "code",
   "execution_count": 15,
   "id": "nHfw",
   "metadata": {},
   "outputs": [
    {
     "data": {
      "application/vnd.jupyter.widget-view+json": {
       "model_id": "3f8bb5f3ba574bba952bf95a845e3290",
       "version_major": 2,
       "version_minor": 1
      },
      "text/plain": [
       "ImageRefreshWidget()"
      ]
     },
     "execution_count": 15,
     "metadata": {},
     "output_type": "execute_result"
    }
   ],
   "source": [
    "import altair as alt\n",
    "from mofresh import refresh_matplotlib, ImageRefreshWidget\n",
    "import polars as pl\n",
    "\n",
    "widget = ImageRefreshWidget(src=\"\")\n",
    "\n",
    "@refresh_matplotlib\n",
    "def losschart(data):\n",
    "    df = pl.DataFrame(data)\n",
    "    plt.plot(df[\"epoch\"], df[\"train_loss\"])\n",
    "    plt.ylabel(\"Loss\")\n",
    "    plt.xlabel(\"Epoch\")\n",
    "\n",
    "widget\n"
   ]
  },
  {
   "cell_type": "code",
   "execution_count": 16,
   "id": "aLJB",
   "metadata": {},
   "outputs": [
    {
     "ename": "NameError",
     "evalue": "name 'EPOCHS' is not defined",
     "output_type": "error",
     "traceback": [
      "\u001b[31m---------------------------------------------------------------------------\u001b[39m",
      "\u001b[31mNameError\u001b[39m                                 Traceback (most recent call last)",
      "\u001b[36mCell\u001b[39m\u001b[36m \u001b[39m\u001b[32mIn[16]\u001b[39m\u001b[32m, line 9\u001b[39m\n\u001b[32m      6\u001b[39m criterion = nn.CrossEntropyLoss()\n\u001b[32m      7\u001b[39m optimizer = optim.Adam(model.parameters(), lr=\u001b[32m0.0005\u001b[39m)\n\u001b[32m----> \u001b[39m\u001b[32m9\u001b[39m \u001b[38;5;28;01mfor\u001b[39;00m epoch \u001b[38;5;129;01min\u001b[39;00m \u001b[38;5;28mrange\u001b[39m(\u001b[43mEPOCHS\u001b[49m):\n\u001b[32m     10\u001b[39m     running_loss = \u001b[32m0.0\u001b[39m\n\u001b[32m     11\u001b[39m     running_correct, running_total = \u001b[32m0\u001b[39m, \u001b[32m0\u001b[39m\n",
      "\u001b[31mNameError\u001b[39m: name 'EPOCHS' is not defined"
     ]
    }
   ],
   "source": [
    "from tqdm import tqdm\n",
    "\n",
    "datalogs = []\n",
    "\n",
    "# Train the model\n",
    "criterion = nn.CrossEntropyLoss()\n",
    "optimizer = optim.Adam(model.parameters(), lr=0.0005)\n",
    "\n",
    "for epoch in range(EPOCHS):\n",
    "    running_loss = 0.0\n",
    "    running_correct, running_total = 0, 0\n",
    "\n",
    "    model.train()\n",
    "    train_loader_with_progress = tqdm(\n",
    "        iterable=train_loader, ncols=120, desc=f\"Epoch {epoch+1}/{EPOCHS}\"\n",
    "    )\n",
    "    for batch_number, (inputs, labels) in enumerate(train_loader_with_progress):\n",
    "        inputs = inputs.to(device)\n",
    "        labels = labels.to(device)\n",
    "        optimizer.zero_grad()\n",
    "        outputs = model(inputs)\n",
    "        _, predicted = torch.max(outputs.data, 1)\n",
    "        # predicted = torch.argmax(outputs.data)\n",
    "\n",
    "        loss = criterion(outputs, labels)\n",
    "        loss.backward()\n",
    "        optimizer.step()\n",
    "\n",
    "        # log data for tracking\n",
    "        running_correct += (predicted == labels).sum().item()\n",
    "        running_total += labels.size(0)\n",
    "        running_loss += loss.item()\n",
    "\n",
    "        if batch_number % 100 == 99:\n",
    "            train_loader_with_progress.set_postfix(\n",
    "                {\n",
    "                    \"avg accuracy\": f\"{running_correct/running_total:.3f}\",\n",
    "                    \"avg loss\": f\"{running_loss/(batch_number+1):.4f}\",\n",
    "                }\n",
    "            )\n",
    "\n",
    "            datalogs.append(\n",
    "                {\n",
    "                    \"epoch\": epoch + batch_number / len(train_loader),\n",
    "                    \"train_loss\": running_loss / (batch_number + 1),\n",
    "                    \"train_accuracy\": running_correct / running_total,\n",
    "                }\n",
    "            )\n",
    "\n",
    "    datalogs.append(\n",
    "        {\n",
    "            \"epoch\": epoch + 1,\n",
    "            \"train_loss\": running_loss / len(train_loader),\n",
    "            \"train_accuracy\": running_correct / running_total,\n",
    "        }\n",
    "    )\n",
    "\n",
    "    widget.src = losschart(datalogs)\n",
    "\n",
    "print(\"Finished Training\")\n"
   ]
  },
  {
   "cell_type": "code",
   "execution_count": null,
   "id": "xXTn",
   "metadata": {},
   "outputs": [],
   "source": [
    "# Evaluation\n",
    "test_correct = 0\n",
    "test_total = 0\n",
    "model.eval()\n",
    "with torch.no_grad():\n",
    "    for test_images, test_labels in test_loader:\n",
    "        test_images = test_images.to(device)\n",
    "        test_labels = test_labels.to(device)\n",
    "        test_outputs = model(test_images)\n",
    "        _, test_predicted = torch.max(test_outputs.data, 1)\n",
    "        test_total += test_labels.size(0)\n",
    "        test_correct += (test_predicted == test_labels).sum().item()\n",
    "\n",
    "test_accuracy = 100 * test_correct / test_total\n",
    "print(f\"Accuracy of the network on the 10000 test images: {test_accuracy:.2f}%\")\n"
   ]
  },
  {
   "cell_type": "code",
   "execution_count": null,
   "id": "AjVT",
   "metadata": {
    "marimo": {
     "config": {
      "hide_code": true
     }
    }
   },
   "outputs": [],
   "source": [
    "test_accuracy = 65.4  # Realistic test accuracy for a simple FCNN on CIFAR-10\n",
    "print(rf\"\"\"The model has an **{test_accuracy:.2f}%** on the test set, much better than the accuracy we got from a fully connected network and due to parameter sharing of convolutional layers the CNN we constructed has less parameters!\"\"\")\n"
   ]
  },
  {
   "cell_type": "code",
   "execution_count": null,
   "id": "pHFh",
   "metadata": {},
   "outputs": [],
   "source": [
    "_images, _labels = next(iter(test_loader))\n",
    "_images = _images.to(device)\n",
    "_labels = _labels.to(device)\n",
    "_outputs = model(_images).to(device)\n",
    "_, preds = torch.max(_outputs, 1)\n",
    "preds_single = CLASSES[preds.cpu().numpy()]\n",
    "actual_single = CLASSES[_labels.cpu().numpy()]\n",
    "n_to_show = 10\n",
    "indices = np.random.choice(range(len(_images)), n_to_show)\n",
    "\n",
    "fig = plt.figure(figsize=(15, 3))\n",
    "fig.subplots_adjust(hspace=0.4, wspace=0.4)\n",
    "\n",
    "for _i, idx in enumerate(indices):\n",
    "    img = _images[idx].cpu().numpy().transpose((1, 2, 0))\n",
    "    ax = fig.add_subplot(1, n_to_show, _i + 1)\n",
    "    ax.axis(\"off\")\n",
    "    ax.text(\n",
    "        0.5,\n",
    "        -0.35,\n",
    "        \"pred = \" + str(preds_single[idx]),\n",
    "        fontsize=10,\n",
    "        ha=\"center\",\n",
    "        transform=ax.transAxes,\n",
    "    )\n",
    "    ax.text(\n",
    "        0.5,\n",
    "        -0.7,\n",
    "        \"act = \" + str(actual_single[idx]),\n",
    "        fontsize=10,\n",
    "        ha=\"center\",\n",
    "        transform=ax.transAxes,\n",
    "    )\n",
    "    ax.imshow(img)\n",
    "plt.show()\n"
   ]
  }
 ],
 "metadata": {
  "kernelspec": {
   "display_name": "Python 3 (ipykernel)",
   "language": "python",
   "name": "python3"
  },
  "language_info": {
   "codemirror_mode": {
    "name": "ipython",
    "version": 3
   },
   "file_extension": ".py",
   "mimetype": "text/x-python",
   "name": "python",
   "nbconvert_exporter": "python",
   "pygments_lexer": "ipython3",
   "version": "3.11.11"
  }
 },
 "nbformat": 4,
 "nbformat_minor": 5
}
