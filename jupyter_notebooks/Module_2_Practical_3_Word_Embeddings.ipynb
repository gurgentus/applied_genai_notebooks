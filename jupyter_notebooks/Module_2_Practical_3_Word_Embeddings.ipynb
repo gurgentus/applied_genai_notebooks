{
 "cells": [
  {
   "cell_type": "code",
   "execution_count": null,
   "id": "Hbol",
   "metadata": {
    "marimo": {
     "config": {
      "hide_code": true
     }
    }
   },
   "outputs": [],
   "source": [
    "import marimo as mo\n"
   ]
  },
  {
   "cell_type": "markdown",
   "id": "MJUe",
   "metadata": {
    "marimo": {
     "config": {
      "hide_code": true
     }
    }
   },
   "source": [
    "# Module 2: Practice 3 - Word Embeddings\n",
    "\n",
    "[![Open in molab](https://marimo.io/molab-shield.png)](https://molab.marimo.io/notebooks/nb_rDo2KD72hZNSLfQNybp5qw)"
   ]
  }
 ],
 "metadata": {},
 "nbformat": 4,
 "nbformat_minor": 5
}
